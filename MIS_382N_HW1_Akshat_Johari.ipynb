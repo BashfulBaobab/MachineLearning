{
 "cells": [
  {
   "cell_type": "markdown",
   "metadata": {
    "id": "evHVxwk2JA-3"
   },
   "source": [
    "# <p style=\"text-align: center;\">MIS 382N: Advanced Machine Learning</p>\n",
    "# <p style=\"text-align: center;\">Homework 1</p>\n",
    "## <p style=\"text-align: center;\">Total points: 55</p>\n",
    "## <p style=\"text-align: center;\">Due: Wednesday, **Sep 10** submitted via Canvas by 11:59 pm</p>\n",
    "\n",
    "Your homework should be written in a **Jupyter notebook**. Please make sure your code runs and the graphics (and anything else) are displayed in your notebook before submitting (%matplotlib inline). **This can be an individual assignment or group of 2. If you choose to do it as a group, please specify who you are working with (name and EID), then only one student should submit the homework.**\n",
    "\n",
    "**Note: Notebooks MUST have the images embedded in them. There will be no regrades if attached images do not render in the notebook. Please re download from canvas after submission and make sure all attached images render without errors. (Hint: Image module from IPython.display)**"
   ]
  },
  {
   "cell_type": "markdown",
   "metadata": {},
   "source": [
    "### <p style=\"text-align: center;\"> Name: Akshat Johari </p>\n",
    "### <p style=\"text-align: center;\"> EID: aj32864 </p>"
   ]
  },
  {
   "cell_type": "markdown",
   "metadata": {
    "id": "TWWU_gOSLEEv"
   },
   "source": [
    "# Question 1: MLOps (10 pts)\n",
    "Read this [article](https://towardsdatascience.com/what-is-mlops-everything-you-must-know-to-get-started-523f2d0b8bd8) \"What is MLOps — Everything You Must Know to Get Started\", which gives a quick walkthrough of the machine learning development lifecycle and explains how MLOps come into play, or watch this [video](https://www.youtube.com/watch?v=06-AZXmwHjo) which you may find interesting.\n",
    "\n",
    "1. (**4 pts**) Use your own words to describe what MLOps is, and what challenges MLOps address. Limit your answer to one paragraph.\n",
    "\n",
    "2. (**6 pts**) Describe what the main phases in MLOps are. Your answer should be 2-3 paragraphs.\n",
    "\n",
    "\n",
    "## Answer:"
   ]
  },
  {
   "cell_type": "markdown",
   "metadata": {},
   "source": [
    "1. MLOps (Machine Learning Operations) is a process that incorporates development and deployment of machine learning models to ensure that models used in production are kept in shape and delivered on time. There are 4 major challenges that MLOps is designed to address:  \n",
    "* Resource shortage - Skilled data scientists are hard to find, and harder to keep. A new set of ML engineers are filling these roles, bringing skillsets at the conjunction of Data Science and DevOps. \n",
    "* Upscaling and upkeep - as data changes, the models must be verified, and updated, if required. Continuious upkeep is a major challenge for any team, and MLOps is a solution being used. \n",
    "* Communication - business teams and technical teams often have starkly different skillsets. Communication of fundamental requirements and concepts is difficult if you do not have the background knowledge requierd to grasp the topic at hand. MLOps teams have people with a functional knowledge of both roles; they are there to ease the bottleneck.  \n",
    "* Risk - Models may output incorrect results, which can have major business ramifications. The cost of such failiures in production must be understood, and a set of procedures defined in case the models ever do fail."
   ]
  },
  {
   "cell_type": "markdown",
   "metadata": {},
   "source": [
    "2. MLOps has 7 main phases. Each is dependent on all the previous phases. Initially, the business problem has to be identified and defined. The purpose of using MLOps is stated here - are we using the model to possibly create a portfolio of assets? Are we using it to detect which dog breeds are more likely to develop cancer? Often, metrics define the limit of the problem. The next two phases are related to data collection and preprocessing. What sort of data is to be used, where it is going to be acquired from, whether or not there are any legal/ethical conundrums related to the data etc. are some of the problems related to collection. Preprocessing is cleaning the data to use as inputs to the models. The type of preprocessing may vary - it could be dimensionality reduction, transformation, scaling, or several other methods.  \n",
    "\n",
    "    Only after this do we move on to the model development phases. The cleaned data is inputted to various models, and the optimal models are decided. Accuracy, precision, recall etc. would be factors involved in determining what the 'best' models are. Post this, the ML pipeline is built and automated. Requirements are determined, architecture is selected, pipelines are built, and validated (note that both training and testing have different pipelines). Next stage - deployment! The model is deployed in whichever manner is decided upon (static/embedded, or dynamic). Various technologies can be used to do this. The model can now be used to perform the actual goal that we decided on way back in phase 1.\n",
    "    \n",
    "    Deployment is not the end of the life cycle - maintenance, monitoring, and optimization are still needed. As time passes, changes in the environment may require tweaks in the model. Performance of the model has to be constantly maintained, and faults in the system corrected. Like the Machine Learning model itself, there is a constant learning involved. Both testing and training pipelines are subject to this.  "
   ]
  },
  {
   "cell_type": "markdown",
   "metadata": {
    "id": "wusA9L1LmUMH"
   },
   "source": [
    "# Question 2: Applications of Machine Learning (5 pts)\n",
    "Read this [article](https://builtin.com/data-science/data-science-applications-examples) \"17 Data Science Applications & Examples\" and pick one of the data science systems used by various organizations according to this blog. \n",
    "\n",
    "For this system you have chosen, answer the following questions. Please limit your answer to one paragraph:\n",
    "\n",
    "1. What kind of machine learning problem is involved (e.g. classification, regression, clustering, outlier detection,...) in this system?\n",
    "2. Speculate on what kind of data may be needed and how the results can be useful to the organization.\n",
    "3. What do you think are the ethical implications of using machine learning in a domain like this?\n",
    "\n",
    "## Answer:"
   ]
  },
  {
   "cell_type": "markdown",
   "metadata": {},
   "source": [
    "I have chosen the system used by Ian Graham, i.e. *Moneyballing* soccer at Liverpool Football Club.  \n",
    "\n",
    "1. I think this problem is likely to be a ranking problem. Liverpool's problem was a lack of funds - they needed to find the best value for money players they could, before anyone else caught on to the player's prowess. A ranking system would have been ideal - you can look at what rank each player has, and based on whether you're looking for a left-back or a right-wing attacker, get the cheapest one with the best rank.  \n",
    "\n",
    "2. I suspect the data required was what was already being collected at that point in time - age of the player, number of matches played, successful pass rate, running speed, shots taken, shots defended, goals scored, headers converted, free kick conversion rate etc. Collecting this data from the vast numbers of players available across the various leagues would have been a tiresome task, but well worth it - Liverpool went from the team that everyone thought was down and out, to winning all but one game in the 2019 season, and winning the 2020 EPL championship! Mr. Graham maintained his own datbase of over 100,000 players, and I believe these were some of the data points he captured.  \n",
    "\n",
    "3. I do not believe there are any ethical ramifications to using machine learning in such a domain. As in all sports, people look for how to get to the top, while staying within (or mayble slightly bending) the rules. This is completely legal, in my opinion. The data is public - player and match data is collected by all soccer pundits. The various ML models known to Data Scientists are public knowledge, and there was no plagiarism (I hope). All in all, I think this is completely above board."
   ]
  },
  {
   "cell_type": "markdown",
   "metadata": {
    "id": "2w8za9lLmVO7"
   },
   "source": [
    "# Question 3: Simpson's Paradox (10 pts)\n",
    "A data scientist should be careful about drawing unwarranted conclusions about any data that is presented. One of the 'gotchas' that can happen even in apparently very simple tabular summaries, is called Simpson's paradox.\n",
    "\n",
    "Read this [article](https://www.covid-datascience.com/post/israeli-data-how-can-efficacy-vs-severe-disease-be-strong-when-60-of-hospitalized-are-vaccinated), which explains why the computed efficacy of the Pfizer vaccine is misleadingly low (67.5%) when you lump all people together, but once you stratify people by age (which is the right thing to do), you get much higher efficacy numbers.\n",
    "\n",
    "1.(**5 pts**) Explain in your own words what Simpson's paradox is, and how this 'paradox' can happen in real data.\n",
    "\n",
    "2.(**5 pts**) Find and mention another example of Simpson's paradox (but not any of the 3 examples given in the Wikipedia entry for 'Simpson's paradox'), state why the paradox appeared in your chosen example. Also give a reference (URL) to your source for the chosen example.\n",
    "\n",
    "## Answer:"
   ]
  },
  {
   "cell_type": "markdown",
   "metadata": {},
   "source": [
    "1. Simpson's paradox is a phenomena observed in statistics which causes a visible trend when you look at the entire population at once, but it does not exist for the subgroups that form that population. It is the result of one or more confounding variables that may not be immediately visible, and can cause misinterpretation of data. The article in question discusses how COVID vaccine efficacy numbers can look much lower overall versus when you compare the same across age groups - the overall efficacy seemed to be 67.5%, but age groups <50 and >50 had 91.8% and 85.2% respectively. This can be attributed to the confounding variable of age - older people are more likely to have gotten the vaccine, and simultaneously also more likely to develop a severe case of COVID (due to underlying health conditions being more likely in the aged). The paradox can happen in real data when one looks solely at the numbers, and not the entire context behind them. "
   ]
  },
  {
   "cell_type": "markdown",
   "metadata": {},
   "source": [
    "2. An example of the paradox in real life can be viewed when looking at change in median pay across the United States (link to this article can be found __[here](https://www.nytimes.com/2013/04/27/business/economy/wage-disparity-continues-to-grow.html?_r=1&)__, or __[here if the first link doesn't work](https://www.newstatesman.com/2013/05/most-misleading-statistics-all-thanks-simpsons-paradox)__).\n",
    "From 2000 to 2013, median wages across the US increased by 0.9%, adjusting for inflation. However, wages by group have fallen:  \n",
    "    a) High School Dropouts: -7.9%  \n",
    "    b) High School Graduates: -4.7%  \n",
    "    c) Some College Education: -7.6%  \n",
    "    d) At least one degree: -1.2%       \n",
    "    \n",
    "    _I will use a simple average instead of the median, but the underlying principle is the same._  \n",
    "  This can be explained by the fact that the numbers have changed. For simplicity's sake, let's say each group had 100 workers in 2000, getting paid \\\\$5, \\\\$10, \\\\$15, and \\\\$20/ hour respectively (made up numbers, of course). The issue now is that these wages have gone down, but the number of people with more education has gone up. For instance, total wages paid to these 400 workers in 2000 would have been:  \n",
    "  \n",
    "  <h4><center>(5 + 10 + 15 + 20) * 100 = $5000</center></h4>   \n",
    "  This implies an average wage per worker of 5000/400 = \\\\$12.5.  \n",
    "    \n",
    "  Now, in 2013, let there be  20 people in category a, 30 in b, 150 in c, and 200 in d. Note that the total number of workers is the same. I'm also taking an assumed pay cut of 20% for each group i.e. pay in 2013 for groups a, b, c, and d respectively is \\\\$4, \\\\$8, \\\\$12, and \\\\$16, the total paid is   \n",
    "  <h4><center>(5 * 4 + 30 * 8 + 150 * 12 + 200 * 16) = $5260</center></h4>   \n",
    "  \n",
    "  This number implies an average wage of $13.15 per worker (an increase of 5.2%), even though wages by groups have gone down by 20%!\n"
   ]
  },
  {
   "cell_type": "markdown",
   "metadata": {},
   "source": [
    "## "
   ]
  },
  {
   "cell_type": "markdown",
   "metadata": {
    "id": "gth0D8jiMBSe"
   },
   "source": [
    "# Question 4: Ridge and Lasso Regression (30 pts)\n",
    "\n",
    "Download the dataset **Admission.csv** from Canvas and use the following codes to import the Admission dataset in Python. \n",
    "\n",
    "There are 7 features in the dataset:\n",
    "\n",
    "1. GRE score\n",
    "2. TOEFL score\n",
    "3. University Rating\n",
    "4. SOP(Statement of Purpose)\n",
    "5. LOR(Letter of Recommendation)\n",
    "6. CGPA\n",
    "7. Research\n",
    "\n",
    "And the target is **Chance of Admission**."
   ]
  },
  {
   "cell_type": "code",
   "execution_count": 1,
   "metadata": {
    "id": "QFazlpLgGpAa"
   },
   "outputs": [],
   "source": [
    "# Only use this code block if you are using Google Colab.\n",
    "# If you are using Jupyter Notebook, please ignore this code block. You can directly upload the file to your Jupyter Notebook file systems.\n",
    "# from google.colab import files\n",
    "\n",
    "## It will prompt you to select a local file. Click on “Choose Files” then select and upload the file. \n",
    "## Wait for the file to be 100% uploaded. You should see the name of the file once Colab has uploaded it.\n",
    "# uploaded = files.upload()"
   ]
  },
  {
   "cell_type": "code",
   "execution_count": 2,
   "metadata": {
    "id": "xsPaOOehGuU6"
   },
   "outputs": [],
   "source": [
    "# Codes below will work for both Google Colab and Jupyter Notebook.\n",
    "import numpy as np\n",
    "import pandas as pd\n",
    "import random\n",
    "from sklearn import linear_model\n",
    "from sklearn.metrics import mean_absolute_error, mean_squared_error\n",
    "from sklearn.linear_model import LinearRegression\n",
    "\n",
    "from sklearn.model_selection import train_test_split\n",
    "import sklearn\n",
    "import matplotlib.pyplot as plt\n",
    "\n",
    "import warnings\n",
    "warnings.filterwarnings('ignore')\n",
    "\n",
    "## Load the dataset into pandas DataFrame\n",
    "df = pd.read_csv('Admission.csv', index_col=0)\n",
    "df = df.replace([np.inf, -np.inf], np.nan) # \n",
    "df = df.fillna(0) # Replace all the NaN values with 0"
   ]
  },
  {
   "cell_type": "code",
   "execution_count": 3,
   "metadata": {
    "id": "PmMz72U6Gv-z"
   },
   "outputs": [
    {
     "data": {
      "text/plain": [
       "Index(['GRE_Score', 'TOEFL_Score', 'University_Rating', 'SOP', 'LOR ', 'CGPA',\n",
       "       'Research', 'Chance_of_Admit'],\n",
       "      dtype='object')"
      ]
     },
     "execution_count": 3,
     "metadata": {},
     "output_type": "execute_result"
    }
   ],
   "source": [
    "df.columns # Show you all the columns in this file"
   ]
  },
  {
   "cell_type": "code",
   "execution_count": 4,
   "metadata": {
    "id": "CyZN-yFfGxlt"
   },
   "outputs": [
    {
     "data": {
      "text/html": [
       "<div>\n",
       "<style scoped>\n",
       "    .dataframe tbody tr th:only-of-type {\n",
       "        vertical-align: middle;\n",
       "    }\n",
       "\n",
       "    .dataframe tbody tr th {\n",
       "        vertical-align: top;\n",
       "    }\n",
       "\n",
       "    .dataframe thead th {\n",
       "        text-align: right;\n",
       "    }\n",
       "</style>\n",
       "<table border=\"1\" class=\"dataframe\">\n",
       "  <thead>\n",
       "    <tr style=\"text-align: right;\">\n",
       "      <th></th>\n",
       "      <th>GRE_Score</th>\n",
       "      <th>TOEFL_Score</th>\n",
       "      <th>University_Rating</th>\n",
       "      <th>SOP</th>\n",
       "      <th>LOR</th>\n",
       "      <th>CGPA</th>\n",
       "      <th>Research</th>\n",
       "      <th>Chance_of_Admit</th>\n",
       "    </tr>\n",
       "    <tr>\n",
       "      <th>Serial No.</th>\n",
       "      <th></th>\n",
       "      <th></th>\n",
       "      <th></th>\n",
       "      <th></th>\n",
       "      <th></th>\n",
       "      <th></th>\n",
       "      <th></th>\n",
       "      <th></th>\n",
       "    </tr>\n",
       "  </thead>\n",
       "  <tbody>\n",
       "    <tr>\n",
       "      <th>1</th>\n",
       "      <td>337</td>\n",
       "      <td>118</td>\n",
       "      <td>4</td>\n",
       "      <td>4.5</td>\n",
       "      <td>4.5</td>\n",
       "      <td>9.65</td>\n",
       "      <td>1</td>\n",
       "      <td>0.92</td>\n",
       "    </tr>\n",
       "    <tr>\n",
       "      <th>2</th>\n",
       "      <td>324</td>\n",
       "      <td>107</td>\n",
       "      <td>4</td>\n",
       "      <td>4.0</td>\n",
       "      <td>4.5</td>\n",
       "      <td>8.87</td>\n",
       "      <td>1</td>\n",
       "      <td>0.76</td>\n",
       "    </tr>\n",
       "    <tr>\n",
       "      <th>3</th>\n",
       "      <td>316</td>\n",
       "      <td>104</td>\n",
       "      <td>3</td>\n",
       "      <td>3.0</td>\n",
       "      <td>3.5</td>\n",
       "      <td>8.00</td>\n",
       "      <td>1</td>\n",
       "      <td>0.72</td>\n",
       "    </tr>\n",
       "    <tr>\n",
       "      <th>4</th>\n",
       "      <td>322</td>\n",
       "      <td>110</td>\n",
       "      <td>3</td>\n",
       "      <td>3.5</td>\n",
       "      <td>2.5</td>\n",
       "      <td>8.67</td>\n",
       "      <td>1</td>\n",
       "      <td>0.80</td>\n",
       "    </tr>\n",
       "    <tr>\n",
       "      <th>5</th>\n",
       "      <td>314</td>\n",
       "      <td>103</td>\n",
       "      <td>2</td>\n",
       "      <td>2.0</td>\n",
       "      <td>3.0</td>\n",
       "      <td>8.21</td>\n",
       "      <td>0</td>\n",
       "      <td>0.65</td>\n",
       "    </tr>\n",
       "  </tbody>\n",
       "</table>\n",
       "</div>"
      ],
      "text/plain": [
       "            GRE_Score  TOEFL_Score  University_Rating  SOP  LOR   CGPA  \\\n",
       "Serial No.                                                               \n",
       "1                 337          118                  4  4.5   4.5  9.65   \n",
       "2                 324          107                  4  4.0   4.5  8.87   \n",
       "3                 316          104                  3  3.0   3.5  8.00   \n",
       "4                 322          110                  3  3.5   2.5  8.67   \n",
       "5                 314          103                  2  2.0   3.0  8.21   \n",
       "\n",
       "            Research  Chance_of_Admit  \n",
       "Serial No.                             \n",
       "1                  1             0.92  \n",
       "2                  1             0.76  \n",
       "3                  1             0.72  \n",
       "4                  1             0.80  \n",
       "5                  0             0.65  "
      ]
     },
     "execution_count": 4,
     "metadata": {},
     "output_type": "execute_result"
    }
   ],
   "source": [
    "df.head() # Show you the first 5 rows in this file"
   ]
  },
  {
   "cell_type": "code",
   "execution_count": 5,
   "metadata": {
    "id": "S3TfR0i4G2rO"
   },
   "outputs": [],
   "source": [
    "y = df['Chance_of_Admit'] # The column named Chance_of_Admit is used as the target, and we store it in y\n",
    "X = df.drop(['Chance_of_Admit'], axis=1) # We keep the remaining columns as the features, and store them in x"
   ]
  },
  {
   "cell_type": "markdown",
   "metadata": {
    "id": "pKq1KERxJw9y"
   },
   "source": [
    "1)(**2 pts**) Split the data into a training set(75% of data) and a test set(25% of data), using the [train_test_split](https://scikit-learn.org/stable/modules/generated/sklearn.model_selection.train_test_split.html) function with random_state = 50. Then scale the data (not including target) so that each of the independent variables would have zero mean and unit variance. You can use the [sklearn.preprocessing.scale](https://scikit-learn.org/stable/modules/generated/sklearn.preprocessing.scale.html) function for this. Print the first 5 rows of the training set after scaling.\n",
    "\n",
    "2)(**5 pts**) Use [sklearn.linear_model.Lasso](https://scikit-learn.org/stable/modules/generated/sklearn.linear_model.Lasso.html) and [sklearn.linear_model.Ridge](https://scikit-learn.org/stable/modules/generated/sklearn.linear_model.Ridge.html) classes to do a **5-fold** cross validation using sklearn's KFold. For the sweep of the regularization parameter, we will look at a grid of values ranging from α=10^10 to α=10^−6. In Python, you can consider this range of values as follows: alpha = 10**numpy.linspace(6,-6,100) \n",
    "so that you can generate 100 uniform values between -6 to 6 as power series.\n",
    "\n",
    "Fit the 2 regression models with scaled data and report the best chosen **α** based on cross validation as well as the corresponding scoring metric. The cross validation should happen on your training data using **MSE** as the scoring metric.\n",
    "\n",
    "3)(**5 pts**) Run ridge and lasso regression for all of the **α** specified above (on training data), and plot the coefficients learned for each of them - there should be one plot each for lasso and ridge, so a total of two plots; different features' weights of each model should be on the same plot with different colors (3pts). \n",
    "\n",
    "What do you qualitatively observe when the value of the regularization parameter changes (2pts)? \n",
    "\n",
    "4)(**3 pts**) Take the exponential of Y_train as the target, and fit the 2 regression models again. Report the best chosen **α** based on cross validation as well as the corresponding scoring metric. Compare the results of using the original target with the results of using the exponential of the target. What do you observe? \n",
    "\n",
    "5)(**5 pts**) Similarly, use [sklearn.linear_model.ElasticNet](https://scikit-learn.org/stable/modules/generated/sklearn.linear_model.ElasticNet.html) to do linear regression with different **α** values, and plot the coefficients learned for each of them (2pts). Observe the plot, then explain the pros and cons of ridge, lasso and Elastic Net models (3pts).\n",
    "\n",
    "\n",
    "6)(**5 pts**) Run the following three regression models with **MSE** loss on the training data: \n",
    "\n",
    "a. linear regression without regularization (1pts)\n",
    "\n",
    "b. linear regression with ridge regularization (2pts)\n",
    "\n",
    "c. linear regression with lasso regularization (2pts)\n",
    "\n",
    "For part (b) and (c), use only the best regularization parameters. Report the MSE and R<sup>2</sup> on the test data for each model.\n",
    "\n",
    "7)(**5 pts**) Train the 3 models and report the metrics with the original data without scaling (3pts). \n",
    "\n",
    "Why do we need to scale the data before regularization (2pts)? \n",
    "\n",
    "## Answer:\n"
   ]
  },
  {
   "cell_type": "markdown",
   "metadata": {},
   "source": [
    "### Part 1\n",
    "\n",
    "(**2 pts**) Split the data into a training set(75% of data) and a test set(25% of data), using the [train_test_split](https://scikit-learn.org/stable/modules/generated/sklearn.model_selection.train_test_split.html) function with random_state = 50. Then scale the data (not including target) so that each of the independent variables would have zero mean and unit variance. You can use the [sklearn.preprocessing.scale](https://scikit-learn.org/stable/modules/generated/sklearn.preprocessing.scale.html) function for this. Print the first 5 rows of the training set after scaling. "
   ]
  },
  {
   "cell_type": "code",
   "execution_count": 18,
   "metadata": {
    "scrolled": true
   },
   "outputs": [
    {
     "name": "stdout",
     "output_type": "stream",
     "text": [
      "First 5 rows of scaled training data:\n"
     ]
    },
    {
     "data": {
      "text/html": [
       "<div>\n",
       "<style scoped>\n",
       "    .dataframe tbody tr th:only-of-type {\n",
       "        vertical-align: middle;\n",
       "    }\n",
       "\n",
       "    .dataframe tbody tr th {\n",
       "        vertical-align: top;\n",
       "    }\n",
       "\n",
       "    .dataframe thead th {\n",
       "        text-align: right;\n",
       "    }\n",
       "</style>\n",
       "<table border=\"1\" class=\"dataframe\">\n",
       "  <thead>\n",
       "    <tr style=\"text-align: right;\">\n",
       "      <th></th>\n",
       "      <th>0</th>\n",
       "      <th>1</th>\n",
       "      <th>2</th>\n",
       "      <th>3</th>\n",
       "      <th>4</th>\n",
       "      <th>5</th>\n",
       "      <th>6</th>\n",
       "    </tr>\n",
       "  </thead>\n",
       "  <tbody>\n",
       "    <tr>\n",
       "      <th>0</th>\n",
       "      <td>1.527254</td>\n",
       "      <td>2.091771</td>\n",
       "      <td>1.615944</td>\n",
       "      <td>0.631508</td>\n",
       "      <td>1.728291</td>\n",
       "      <td>2.113703</td>\n",
       "      <td>0.904534</td>\n",
       "    </tr>\n",
       "    <tr>\n",
       "      <th>1</th>\n",
       "      <td>0.741809</td>\n",
       "      <td>0.463089</td>\n",
       "      <td>-0.931078</td>\n",
       "      <td>-0.352660</td>\n",
       "      <td>-1.041406</td>\n",
       "      <td>0.294888</td>\n",
       "      <td>0.904534</td>\n",
       "    </tr>\n",
       "    <tr>\n",
       "      <th>2</th>\n",
       "      <td>0.567266</td>\n",
       "      <td>0.137352</td>\n",
       "      <td>1.615944</td>\n",
       "      <td>0.631508</td>\n",
       "      <td>0.620412</td>\n",
       "      <td>0.262117</td>\n",
       "      <td>0.904534</td>\n",
       "    </tr>\n",
       "    <tr>\n",
       "      <th>3</th>\n",
       "      <td>-0.392722</td>\n",
       "      <td>-0.514121</td>\n",
       "      <td>-0.082071</td>\n",
       "      <td>0.139424</td>\n",
       "      <td>0.620412</td>\n",
       "      <td>-0.802955</td>\n",
       "      <td>-1.105542</td>\n",
       "    </tr>\n",
       "    <tr>\n",
       "      <th>4</th>\n",
       "      <td>0.479994</td>\n",
       "      <td>0.788825</td>\n",
       "      <td>0.766936</td>\n",
       "      <td>1.123593</td>\n",
       "      <td>1.174352</td>\n",
       "      <td>1.114174</td>\n",
       "      <td>0.904534</td>\n",
       "    </tr>\n",
       "  </tbody>\n",
       "</table>\n",
       "</div>"
      ],
      "text/plain": [
       "          0         1         2         3         4         5         6\n",
       "0  1.527254  2.091771  1.615944  0.631508  1.728291  2.113703  0.904534\n",
       "1  0.741809  0.463089 -0.931078 -0.352660 -1.041406  0.294888  0.904534\n",
       "2  0.567266  0.137352  1.615944  0.631508  0.620412  0.262117  0.904534\n",
       "3 -0.392722 -0.514121 -0.082071  0.139424  0.620412 -0.802955 -1.105542\n",
       "4  0.479994  0.788825  0.766936  1.123593  1.174352  1.114174  0.904534"
      ]
     },
     "execution_count": 18,
     "metadata": {},
     "output_type": "execute_result"
    }
   ],
   "source": [
    "# Splitting into test-train\n",
    "X_train, X_test, y_train, y_test = train_test_split(X, y, test_size=0.25, random_state=50)\n",
    "\n",
    "# Scaling data\n",
    "scaler = sklearn.preprocessing.StandardScaler()\n",
    "\n",
    "# Training set\n",
    "scaler.fit(X_train)\n",
    "X_train_scaled = pd.DataFrame(scaler.transform(X_train))\n",
    "\n",
    "# Test set\n",
    "scaler.fit(X_test)\n",
    "X_test_scaled = pd.DataFrame(scaler.transform(X_test))\n",
    "\n",
    "print(\"First 5 rows of scaled training data:\")\n",
    "X_train_scaled.head()"
   ]
  },
  {
   "cell_type": "markdown",
   "metadata": {},
   "source": [
    "### Part 2 \n",
    "\n",
    "(**5 pts**) Use [sklearn.linear_model.Lasso](https://scikit-learn.org/stable/modules/generated/sklearn.linear_model.Lasso.html) and [sklearn.linear_model.Ridge](https://scikit-learn.org/stable/modules/generated/sklearn.linear_model.Ridge.html) classes to do a **5-fold** cross validation using sklearn's KFold. For the sweep of the regularization parameter, we will look at a grid of values ranging from α=10^10 to α=10^−6. In Python, you can consider this range of values as follows: alpha = 10**numpy.linspace(6,-6,100) \n",
    "so that you can generate 100 uniform values between -6 to 6 as power series.\n",
    "\n",
    "\n",
    "Fit the 2 regression models with scaled data and report the best chosen **α** based on cross validation as well as the corresponding scoring metric. The cross validation should happen on your training data using **MSE** as the scoring metric.\n"
   ]
  },
  {
   "cell_type": "code",
   "execution_count": 8,
   "metadata": {},
   "outputs": [
    {
     "name": "stdout",
     "output_type": "stream",
     "text": [
      "Best alpha value for lasso: 0.0011768119524349942 \n",
      "Corresponding avg MSE:  0.004098720344979797 \n",
      "\n",
      "Best alpha value for ridge:  4.229242874389499 \n",
      "Corresponding avg MSE: 0.004118067661937138\n"
     ]
    }
   ],
   "source": [
    "from sklearn.linear_model import Ridge, Lasso\n",
    "from sklearn.model_selection import KFold\n",
    "from sklearn.metrics import mean_squared_error\n",
    "\n",
    "alpha = 10**np.linspace(10,-6,100)\n",
    "kfold = KFold(5)\n",
    "\n",
    "# Lasso Regression\n",
    "lasso_scores = {}\n",
    "\n",
    "for a in alpha:\n",
    "    MSE = []\n",
    "    for train,test in kfold.split(X_train_scaled, y_train):\n",
    "        lcv = Lasso(alpha=a)\n",
    "        lcv.fit(X_train_scaled.iloc[train], y_train.iloc[train])\n",
    "        MSE.append(mean_squared_error(y_train.iloc[test], lcv.predict(X_train_scaled.iloc[test])))\n",
    "    lasso_scores[a] = sum(MSE)/len(MSE)\n",
    "lasso_scores\n",
    "\n",
    "best_lasso = min(lasso_scores, key=lasso_scores.get)\n",
    "\n",
    "\n",
    "# Ridge Regression\n",
    "ridge_scores = {}\n",
    "\n",
    "for a in alpha:\n",
    "    MSE = []\n",
    "    for train,test in kfold.split(X_train_scaled, y_train):\n",
    "        rcv = Ridge(alpha=a)\n",
    "        rcv.fit(X_train_scaled.iloc[train], y_train.iloc[train])\n",
    "        MSE.append(mean_squared_error(y_train.iloc[test], rcv.predict(X_train_scaled.iloc[test])))\n",
    "    ridge_scores[a] = sum(MSE)/len(MSE)\n",
    "ridge_scores\n",
    "\n",
    "best_ridge = min(ridge_scores, key=ridge_scores.get)\n",
    "\n",
    "# Getting best values\n",
    "l = []\n",
    "a = lasso_scores[best_lasso]\n",
    "\n",
    "for k,v in lasso_scores.items():\n",
    "#     print(k,v)\n",
    "    if v == a:\n",
    "        l.append(k)\n",
    "\n",
    "a = ridge_scores[best_ridge]\n",
    "\n",
    "m = []\n",
    "for k,v in ridge_scores.items():\n",
    "#     print(k,v)\n",
    "    if v == a:\n",
    "        m.append(k)\n",
    "\n",
    "print(\"Best alpha value for lasso:\", min(l), \"\\nCorresponding avg MSE: \", lasso_scores[best_lasso], \"\\n\\nBest alpha value for ridge: \", min(m), \"\\nCorresponding avg MSE:\", ridge_scores[best_ridge])\n",
    "\n",
    "answers = [min(l), lasso_scores[best_lasso], min(m), ridge_scores[best_ridge]]"
   ]
  },
  {
   "cell_type": "markdown",
   "metadata": {},
   "source": [
    "### Part 3\n",
    "\n",
    "(**5 pts**) Run ridge and lasso regression for all of the **α** specified above (on training data), and plot the coefficients learned for each of them - there should be one plot each for lasso and ridge, so a total of two plots; different features' weights of each model should be on the same plot with different colors (3pts). \n",
    "\n",
    "What do you qualitatively observe when the value of the regularization parameter changes (2pts)? "
   ]
  },
  {
   "cell_type": "code",
   "execution_count": 9,
   "metadata": {},
   "outputs": [
    {
     "data": {
      "image/png": "[encoded data removed]",
      "text/plain": [
       "<Figure size 1080x432 with 1 Axes>"
      ]
     },
     "metadata": {
      "needs_background": "light"
     },
     "output_type": "display_data"
    }
   ],
   "source": [
    "#Plotting lasso coefficents as a function of the regularization\n",
    "coefs = []\n",
    "for a in alpha:\n",
    "    lasso = Lasso(alpha=a,fit_intercept=True)\n",
    "    lasso.fit(X_train_scaled,y_train)\n",
    "    coefs.append(lasso.coef_)\n",
    "    \n",
    "plt.figure(figsize=(15, 6))\n",
    "ax = plt.gca()\n",
    "ax.plot(alpha, coefs)\n",
    "ax.set_xscale('log')\n",
    "plt.xlabel('Alpha')\n",
    "plt.ylabel('Coefficients')\n",
    "plt.title('Lasso coefficients varying with the regularization term')\n",
    "plt.legend(X_train.columns)\n",
    "plt.show()"
   ]
  },
  {
   "cell_type": "code",
   "execution_count": 10,
   "metadata": {
    "scrolled": false
   },
   "outputs": [
    {
     "name": "stdout",
     "output_type": "stream",
     "text": [
      "Populating the interactive namespace from numpy and matplotlib\n"
     ]
    },
    {
     "data": {
      "image/png": "[encoded data removed]",
      "text/plain": [
       "<Figure size 1080x432 with 1 Axes>"
      ]
     },
     "metadata": {
      "needs_background": "light"
     },
     "output_type": "display_data"
    }
   ],
   "source": [
    "%pylab inline\n",
    "#Plotting ridge coefficents as a function of the regularization\n",
    "coefs = []\n",
    "for a in alpha:\n",
    "    ridge = Ridge(alpha=a,fit_intercept=True)\n",
    "    ridge.fit(X_train_scaled,y_train)\n",
    "    coefs.append(ridge.coef_)\n",
    "\n",
    "plt.figure(figsize=(15, 6))    \n",
    "ax = plt.gca()\n",
    "ax.plot(alpha, coefs)\n",
    "ax.set_xscale('log')\n",
    "plt.xlabel('Alpha')\n",
    "plt.ylabel('Coefficients')\n",
    "plt.title('Ridge coefficients varying with the regularization term')\n",
    "plt.legend(X_train.columns)\n",
    "plt.show()"
   ]
  },
  {
   "cell_type": "markdown",
   "metadata": {},
   "source": [
    "#### Regularization is essentially applying penalties to the model to prevent overfitting. As the regularization parameter (alpha) is increased, the weights on the variables peak, and then fall. Lasso coefficients reach 0, while ridge coefficients do not, but become asympotic to 0. "
   ]
  },
  {
   "cell_type": "markdown",
   "metadata": {},
   "source": [
    "### Part 4 \n",
    "\n",
    "(**3 pts**) Take the exponential of Y_train as the target, and fit the 2 regression models again. Report the best chosen **α** based on cross validation as well as the corresponding scoring metric. Compare the results of using the original target with the results of using the exponential of the target. What do you observe? "
   ]
  },
  {
   "cell_type": "code",
   "execution_count": 11,
   "metadata": {
    "scrolled": true
   },
   "outputs": [],
   "source": [
    "y_train_exp = np.exp(y_train)\n",
    "# y_train_exp"
   ]
  },
  {
   "cell_type": "code",
   "execution_count": 12,
   "metadata": {},
   "outputs": [
    {
     "name": "stdout",
     "output_type": "stream",
     "text": [
      "Best values taking exponent of y:\n",
      "\n",
      "Best alpha value for lasso: 0.0017073526474706887 \n",
      "Corresponding avg MSE:  0.014766582720990707 \n",
      "\n",
      "Best alpha value for ridge:  6.135907273413163 \n",
      "Corresponding avg MSE: 0.014815008775351055\n",
      "\n",
      "-----------------------------------------------\n",
      "Earlier values:\n",
      "\n",
      "Best alpha value for lasso: 0.0011768119524349942 \n",
      "Corresponding avg MSE:  0.004098720344979797 \n",
      "\n",
      "Best alpha value for ridge:  4.229242874389499 \n",
      "Corresponding avg MSE: 0.004118067661937138\n"
     ]
    }
   ],
   "source": [
    "from sklearn.linear_model import Ridge, Lasso\n",
    "from sklearn.model_selection import KFold\n",
    "from sklearn.metrics import mean_squared_error\n",
    "\n",
    "alpha = 10**np.linspace(10,-6,100)\n",
    "kfold = KFold(5)\n",
    "\n",
    "# Lasso Regression\n",
    "lasso_scores = {}\n",
    "\n",
    "for a in alpha:\n",
    "    MSE = []\n",
    "    for train,test in kfold.split(X_train_scaled, y_train_exp):\n",
    "        lcv = Lasso(alpha=a)\n",
    "        lcv.fit(X_train_scaled.iloc[train], y_train_exp.iloc[train])\n",
    "        MSE.append(mean_squared_error(y_train_exp.iloc[test], lcv.predict(X_train_scaled.iloc[test])))\n",
    "    lasso_scores[a] = sum(MSE)/len(MSE)\n",
    "lasso_scores\n",
    "\n",
    "best_lasso = min(lasso_scores, key=lasso_scores.get)\n",
    "\n",
    "\n",
    "# Ridge Regression\n",
    "ridge_scores = {}\n",
    "\n",
    "for a in alpha:\n",
    "    MSE = []\n",
    "    for train,test in kfold.split(X_train_scaled, y_train_exp):\n",
    "        rcv = Ridge(alpha=a)\n",
    "        rcv.fit(X_train_scaled.iloc[train], y_train_exp.iloc[train])\n",
    "        MSE.append(mean_squared_error(y_train_exp.iloc[test], rcv.predict(X_train_scaled.iloc[test])))\n",
    "    ridge_scores[a] = sum(MSE)/len(MSE)\n",
    "ridge_scores\n",
    "\n",
    "best_ridge = min(ridge_scores, key=ridge_scores.get)\n",
    "\n",
    "# Getting best values\n",
    "l = []\n",
    "a = lasso_scores[best_lasso]\n",
    "\n",
    "for k,v in lasso_scores.items():\n",
    "#     print(k,v)\n",
    "    if v == a:\n",
    "        l.append(k)\n",
    "\n",
    "a = ridge_scores[best_ridge]\n",
    "\n",
    "r = []\n",
    "for k,v in ridge_scores.items():\n",
    "#     print(k,v)\n",
    "    if v == a:\n",
    "        r.append(k)\n",
    "        \n",
    "print(\"Best values taking exponent of y:\\n\")\n",
    "print(\"Best alpha value for lasso:\", min(l), \"\\nCorresponding avg MSE: \", lasso_scores[best_lasso], \"\\n\\nBest alpha value for ridge: \", min(r), \"\\nCorresponding avg MSE:\", ridge_scores[best_ridge])\n",
    "\n",
    "print(\"\\n-----------------------------------------------\\nEarlier values:\\n\")\n",
    "print(\"Best alpha value for lasso:\", answers[0], \"\\nCorresponding avg MSE: \", answers[1], \"\\n\\nBest alpha value for ridge: \", answers[2], \"\\nCorresponding avg MSE:\", answers[3])"
   ]
  },
  {
   "cell_type": "markdown",
   "metadata": {},
   "source": [
    "#### Taking the exponent of the y-variable (Chance of admission) results in a worse model; both alpha and MSE values are worse. Taking exponent of the y-variable (chance of admission) makes the model less linear, and hence the results from lasso and ridge are worse than earlier."
   ]
  },
  {
   "cell_type": "markdown",
   "metadata": {},
   "source": [
    "### Part 5\n",
    "\n",
    "(**5 pts**) Similarly, use [sklearn.linear_model.ElasticNet](https://scikit-learn.org/stable/modules/generated/sklearn.linear_model.ElasticNet.html) to do linear regression with different **α** values, and plot the coefficients learned for each of them (2pts). Observe the plot, then explain the pros and cons of ridge, lasso and Elastic Net models (3pts)."
   ]
  },
  {
   "cell_type": "code",
   "execution_count": 13,
   "metadata": {},
   "outputs": [
    {
     "name": "stdout",
     "output_type": "stream",
     "text": [
      "Best alpha value for Elastic Net:  0.002477076355991704 \n",
      "Corresponding avg MSE:  0.004098968587261618\n"
     ]
    }
   ],
   "source": [
    "from sklearn.linear_model import ElasticNet\n",
    "from sklearn.model_selection import KFold\n",
    "from sklearn.metrics import mean_squared_error\n",
    "\n",
    "alpha = 10**np.linspace(10,-6,100)\n",
    "kfold = KFold(5)\n",
    "\n",
    "# ElasticNet Regression\n",
    "en_scores = {}\n",
    "\n",
    "for a in alpha:\n",
    "    MSE = []\n",
    "    for train,test in kfold.split(X_train_scaled, y_train):\n",
    "        encv = ElasticNet(alpha=a)\n",
    "        encv.fit(X_train_scaled.iloc[train], y_train.iloc[train])\n",
    "        MSE.append(mean_squared_error(y_train.iloc[test], encv.predict(X_train_scaled.iloc[test])))\n",
    "    en_scores[a] = sum(MSE)/len(MSE)\n",
    "en_scores\n",
    "\n",
    "best_en = min(en_scores, key=en_scores.get)\n",
    "\n",
    "best_en, en_scores[best_en]\n",
    "\n",
    "e = []\n",
    "a = en_scores[best_en]\n",
    "\n",
    "for k,v in en_scores.items():\n",
    "#     print(k,v)\n",
    "    if v == a:\n",
    "        e.append(k)\n",
    "\n",
    "print(\"Best alpha value for Elastic Net: \", min(e), \"\\nCorresponding avg MSE: \", a)"
   ]
  },
  {
   "cell_type": "code",
   "execution_count": 14,
   "metadata": {},
   "outputs": [
    {
     "name": "stdout",
     "output_type": "stream",
     "text": [
      "Populating the interactive namespace from numpy and matplotlib\n"
     ]
    },
    {
     "data": {
      "image/png": "[encoded data removed]",
      "text/plain": [
       "<Figure size 1080x432 with 1 Axes>"
      ]
     },
     "metadata": {
      "needs_background": "light"
     },
     "output_type": "display_data"
    }
   ],
   "source": [
    "# Plotting Elastic Net coefficents as a function of the regularization\n",
    "\n",
    "%pylab inline\n",
    "\n",
    "coefs = []\n",
    "for a in alpha:\n",
    "    en = ElasticNet(alpha=a,fit_intercept=True)\n",
    "    en.fit(X_train_scaled,y_train)\n",
    "    coefs.append(en.coef_)\n",
    "    \n",
    "\n",
    "plt.figure(figsize=(15, 6))\n",
    "ax = plt.gca()\n",
    "ax.plot(alpha, coefs)\n",
    "ax.set_xscale('log')\n",
    "plt.xlabel('Alpha')\n",
    "plt.ylabel('Coefficients')\n",
    "plt.title('Elastic Net coefficients varying with the regularization term')\n",
    "plt.legend(X_train.columns)\n",
    "plt.show()"
   ]
  },
  {
   "cell_type": "markdown",
   "metadata": {},
   "source": [
    "#### Lasso penalizes coefficients that the model emphasizes, reducing overfitting. It brings the coefficients of some variables to 0. One drawback is that it does not work well when there are multicollinear variables - it may select any of them without understanding context. Another drawback is that some features may be highly biased.\n",
    "\n",
    "#### Ridge works similarly to lasso, except it does not reduce coefficients to 0. It trades variance for bias, and reduces overfitting. Drawbacks are that model interpretability is low, and bias is higher.\n",
    "\n",
    "#### Elastic Net combines both lasso and ridge. It reduces weights of some variables, and eliminates some altogether. The main drawback is computational complexity - it is more processor intensive than either lasso or ridge."
   ]
  },
  {
   "cell_type": "markdown",
   "metadata": {},
   "source": [
    "## Part 6\n",
    "\n",
    "(**5 pts**) Run the following three regression models with **MSE** loss on the training data: \n",
    "\n",
    "a. linear regression without regularization (1pts)\n",
    "\n",
    "b. linear regression with ridge regularization (2pts)\n",
    "\n",
    "c. linear regression with lasso regularization (2pts)\n",
    "\n",
    "For part (b) and (c), use only the best regularization parameters. Report the MSE and R<sup>2</sup> on the test data for each model."
   ]
  },
  {
   "cell_type": "code",
   "execution_count": 15,
   "metadata": {},
   "outputs": [
    {
     "name": "stdout",
     "output_type": "stream",
     "text": [
      "Best alpha values:\n",
      "Lasso:  0.0017073526474706887 \n",
      "Ridge: 6.135907273413163\n"
     ]
    }
   ],
   "source": [
    "from sklearn.linear_model import LinearRegression, Ridge, Lasso\n",
    "\n",
    "print(\"Best alpha values:\\nLasso: \", min(l), \"\\nRidge:\", min(r))"
   ]
  },
  {
   "cell_type": "code",
   "execution_count": 16,
   "metadata": {},
   "outputs": [
    {
     "name": "stdout",
     "output_type": "stream",
     "text": [
      "Linear regression training set MSE:  0.005200215496311308 \n",
      "R2:  0.6910288907914793\n",
      "\n",
      "Ridge training set MSE:  0.005200192897549567 \n",
      "R2:  0.6910302334982358\n",
      "\n",
      "Lasso MSE:  0.005153503730724881 \n",
      "R2:  0.6938042730879561\n"
     ]
    }
   ],
   "source": [
    "lm = LinearRegression().fit(X_train_scaled, y_train)\n",
    "print(\"Linear regression training set MSE: \", mean_squared_error(y_test, lm.predict(X_test_scaled)), \"\\nR2: \", lm.score(X_test_scaled, y_test))\n",
    "\n",
    "ridge = Ridge(alpha=min(l)).fit(X_train_scaled, y_train)\n",
    "print(\"\\nRidge training set MSE: \", mean_squared_error(y_test, ridge.predict(X_test_scaled)), \"\\nR2: \", ridge.score(X_test_scaled, y_test))\n",
    "\n",
    "\n",
    "lasso = Lasso(alpha=min(l)).fit(X_train_scaled, y_train)\n",
    "print(\"\\nLasso MSE: \", mean_squared_error(y_test, lasso.predict(X_test_scaled)), \"\\nR2: \", lasso.score(X_test_scaled, y_test))"
   ]
  },
  {
   "cell_type": "markdown",
   "metadata": {},
   "source": [
    "## Part 7\n",
    "\n",
    "(**5 pts**) Train the 3 models and report the metrics with the original data without scaling (3pts). \n",
    "\n",
    "Why do we need to scale the data before regularization (2pts)? "
   ]
  },
  {
   "cell_type": "code",
   "execution_count": 21,
   "metadata": {},
   "outputs": [],
   "source": [
    "from sklearn.linear_model import Ridge, Lasso\n",
    "from sklearn.model_selection import KFold\n",
    "from sklearn.metrics import mean_squared_error\n",
    "\n",
    "alpha = 10**np.linspace(10,-6,100)\n",
    "kfold = KFold(5)\n",
    "\n",
    "# Lasso Regression\n",
    "lasso_scores = {}\n",
    "\n",
    "for a in alpha:\n",
    "    MSE = []\n",
    "    for train,test in kfold.split(X_train, y_train):\n",
    "        lcv = Lasso(alpha=a)\n",
    "        lcv.fit(X_train.iloc[train], y_train.iloc[train])\n",
    "        MSE.append(mean_squared_error(y_train.iloc[test], lcv.predict(X_train.iloc[test])))\n",
    "    lasso_scores[a] = sum(MSE)/len(MSE)\n",
    "lasso_scores\n",
    "\n",
    "best_lasso = min(lasso_scores, key=lasso_scores.get)\n",
    "\n",
    "\n",
    "# Ridge Regression\n",
    "ridge_scores = {}\n",
    "\n",
    "for a in alpha:\n",
    "    MSE = []\n",
    "    for train,test in kfold.split(X_train, y_train):\n",
    "        rcv = Ridge(alpha=a)\n",
    "        rcv.fit(X_train.iloc[train], y_train.iloc[train])\n",
    "        MSE.append(mean_squared_error(y_train.iloc[test], rcv.predict(X_train.iloc[test])))\n",
    "    ridge_scores[a] = sum(MSE)/len(MSE)\n",
    "ridge_scores\n",
    "\n",
    "best_ridge = min(ridge_scores, key=ridge_scores.get)\n",
    "\n",
    "# Getting best values\n",
    "l = []\n",
    "a = lasso_scores[best_lasso]\n",
    "\n",
    "for k,v in lasso_scores.items():\n",
    "#     print(k,v)\n",
    "    if v == a:\n",
    "        l.append(k)\n",
    "\n",
    "a = ridge_scores[best_ridge]\n",
    "\n",
    "m = []\n",
    "for k,v in ridge_scores.items():\n",
    "#     print(k,v)\n",
    "    if v == a:\n",
    "        m.append(k)\n",
    "\n",
    "# print(\"Best alpha value for lasso:\", min(l), \"\\nCorresponding avg MSE: \", lasso_scores[best_lasso], \"\\n\\nBest alpha value for ridge: \", min(m), \"\\nCorresponding avg MSE:\", ridge_scores[best_ridge])\n",
    "\n",
    "answers = [min(l), lasso_scores[best_lasso], min(m), ridge_scores[best_ridge]]"
   ]
  },
  {
   "cell_type": "code",
   "execution_count": 22,
   "metadata": {},
   "outputs": [
    {
     "name": "stdout",
     "output_type": "stream",
     "text": [
      "Running the same models on unscaled data:\n",
      "\n",
      "Linear regression training set MSE:  0.004526319242200028 \n",
      "R2:  0.7310684763186412\n",
      "\n",
      "Ridge training set MSE:  0.00452631407556969 \n",
      "R2:  0.7310687832942863\n",
      "\n",
      "Lasso MSE:  0.004551602842641677 \n",
      "R2:  0.7295662497130742\n"
     ]
    }
   ],
   "source": [
    "print(\"Running the same models on unscaled data:\\n\")\n",
    "\n",
    "lm = LinearRegression().fit(X_train, y_train)\n",
    "print(\"Linear regression training set MSE: \", mean_squared_error(y_test, lm.predict(X_test)), \"\\nR2: \", lm.score(X_test, y_test))\n",
    "\n",
    "ridge = Ridge(alpha=min(l)).fit(X_train, y_train)\n",
    "print(\"\\nRidge training set MSE: \", mean_squared_error(y_test, ridge.predict(X_test)), \"\\nR2: \", ridge.score(X_test, y_test))\n",
    "\n",
    "\n",
    "lasso = Lasso(alpha=min(l)).fit(X_train, y_train)\n",
    "print(\"\\nLasso MSE: \", mean_squared_error(y_test, lasso.predict(X_test)), \"\\nR2: \", lasso.score(X_test, y_test))"
   ]
  },
  {
   "cell_type": "markdown",
   "metadata": {},
   "source": [
    "#### The data is scaled before inputting it to the regularization models because we want the contribution of each variable to the model to be on a similar scale. Say there are 2 variables, one is age(varying from 20-65), and the other is income (varying from \\\\$30,000 to \\\\$2,000,000) The effect a change in income will have will be much higher than that of age, and we scale to eliminate these differences.\n",
    "\n",
    "#### The model in this case performs better without scaling because one variable (CGPA) is very relevant compared to the others, as can be seen from the graphs above."
   ]
  }
 ],
 "metadata": {
  "colab": {
   "collapsed_sections": [],
   "name": "MIS 382N - HW1.ipynb",
   "provenance": []
  },
  "kernelspec": {
   "display_name": "Python 3",
   "language": "python",
   "name": "python3"
  },
  "language_info": {
   "codemirror_mode": {
    "name": "ipython",
    "version": 3
   },
   "file_extension": ".py",
   "mimetype": "text/x-python",
   "name": "python",
   "nbconvert_exporter": "python",
   "pygments_lexer": "ipython3",
   "version": "3.8.8"
  }
 },
 "nbformat": 4,
 "nbformat_minor": 1
}
